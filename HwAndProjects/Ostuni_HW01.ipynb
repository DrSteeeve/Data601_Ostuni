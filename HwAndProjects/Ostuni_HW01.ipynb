{
 "cells": [
  {
   "cell_type": "code",
   "execution_count": 10,
   "id": "0d79b354-3f8d-403f-8320-8f4e51c17356",
   "metadata": {},
   "outputs": [
    {
     "name": "stdout",
     "output_type": "stream",
     "text": [
      "This is a sentence for the mini-lab\n"
     ]
    }
   ],
   "source": [
    "# Exercise 1\n",
    "sentence = \"This is a sentence for the mini-lab\"\n",
    "print(sentence)"
   ]
  },
  {
   "cell_type": "code",
   "execution_count": 11,
   "id": "82cf5a99-b481-4192-95cf-6ecb64a311ad",
   "metadata": {},
   "outputs": [
    {
     "data": {
      "text/plain": [
       "35"
      ]
     },
     "execution_count": 11,
     "metadata": {},
     "output_type": "execute_result"
    }
   ],
   "source": [
    "# Exercise 2\n",
    "len(sentence)"
   ]
  },
  {
   "cell_type": "code",
   "execution_count": 12,
   "id": "e82cd19e-7449-4823-8ab4-4ffe6cc1b538",
   "metadata": {
    "scrolled": true
   },
   "outputs": [
    {
     "name": "stdout",
     "output_type": "stream",
     "text": [
      "['This', 'is', 'a', 'sentence', 'for', 'the', 'mini-lab']\n"
     ]
    }
   ],
   "source": [
    "# Exercise 3\n",
    "words = sentence.split(\" \")\n",
    "print(words)"
   ]
  },
  {
   "cell_type": "code",
   "execution_count": 13,
   "id": "17d73059-7854-4c91-8ddc-f239ae4d5923",
   "metadata": {
    "scrolled": true
   },
   "outputs": [
    {
     "data": {
      "text/plain": [
       "7"
      ]
     },
     "execution_count": 13,
     "metadata": {},
     "output_type": "execute_result"
    }
   ],
   "source": [
    "# Exercise 4\n",
    "len(words)"
   ]
  },
  {
   "cell_type": "code",
   "execution_count": 14,
   "id": "f8255545-88ed-4990-8b55-ec5f81a79001",
   "metadata": {},
   "outputs": [
    {
     "name": "stdout",
     "output_type": "stream",
     "text": [
      "['Olivia', 'Noah', 'Amelia']\n"
     ]
    }
   ],
   "source": [
    "# Exercise 5\n",
    "\n",
    "names = [\"Liam\", \"Olivia\", \"Emma\", \"Noah\", \"Elijah\", \"Amelia\"]\n",
    "odd_names = []\n",
    "index = 0\n",
    "while index < len(names):\n",
    "    if index % 2 == 1:\n",
    "        odd_names.append(names[index])\n",
    "    index+=1\n",
    "print(odd_names)"
   ]
  },
  {
   "cell_type": "code",
   "execution_count": null,
   "id": "5b2e8077-d3a6-4b13-b3bd-b160ec61d72e",
   "metadata": {},
   "outputs": [],
   "source": []
  }
 ],
 "metadata": {
  "kernelspec": {
   "display_name": "Python [conda env:base] *",
   "language": "python",
   "name": "conda-base-py"
  },
  "language_info": {
   "codemirror_mode": {
    "name": "ipython",
    "version": 3
   },
   "file_extension": ".py",
   "mimetype": "text/x-python",
   "name": "python",
   "nbconvert_exporter": "python",
   "pygments_lexer": "ipython3",
   "version": "3.13.5"
  }
 },
 "nbformat": 4,
 "nbformat_minor": 5
}
