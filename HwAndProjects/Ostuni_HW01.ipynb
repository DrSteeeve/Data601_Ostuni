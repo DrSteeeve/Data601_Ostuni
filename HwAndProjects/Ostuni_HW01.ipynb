{
 "cells": [
  {
   "cell_type": "markdown",
   "id": "35a2ca43-37ae-4645-994c-b89646754db3",
   "metadata": {},
   "source": [
    "# Steven Ostuni - HW 1"
   ]
  },
  {
   "cell_type": "code",
   "execution_count": 29,
   "id": "f4d8c1a1-d194-49a0-803a-691bb5e6e8a7",
   "metadata": {},
   "outputs": [
    {
     "name": "stdout",
     "output_type": "stream",
     "text": [
      "This is a sentence for the mini-lab\n"
     ]
    }
   ],
   "source": [
    "# Exercise 1\n",
    "sentence = \"This is a sentence for the mini-lab\"\n",
    "print(sentence)"
   ]
  },
  {
   "cell_type": "code",
   "execution_count": 30,
   "id": "3b60d7a8-792e-48ad-b679-e23b17629ea4",
   "metadata": {},
   "outputs": [
    {
     "data": {
      "text/plain": [
       "35"
      ]
     },
     "execution_count": 30,
     "metadata": {},
     "output_type": "execute_result"
    }
   ],
   "source": [
    "# Exercise 2\n",
    "len(sentence)"
   ]
  },
  {
   "cell_type": "code",
   "execution_count": 31,
   "id": "e82cd19e-7449-4823-8ab4-4ffe6cc1b538",
   "metadata": {},
   "outputs": [
    {
     "name": "stdout",
     "output_type": "stream",
     "text": [
      "['This', 'is', 'a', 'sentence', 'for', 'the', 'mini-lab']\n"
     ]
    }
   ],
   "source": [
    "# Exercise 3\n",
    "words = sentence.split(\" \")\n",
    "print(words)"
   ]
  },
  {
   "cell_type": "code",
   "execution_count": 32,
   "id": "17d73059-7854-4c91-8ddc-f239ae4d5923",
   "metadata": {},
   "outputs": [
    {
     "data": {
      "text/plain": [
       "7"
      ]
     },
     "execution_count": 32,
     "metadata": {},
     "output_type": "execute_result"
    }
   ],
   "source": [
    "# Exercise 4\n",
    "len(words)"
   ]
  },
  {
   "cell_type": "code",
   "execution_count": 33,
   "id": "f8255545-88ed-4990-8b55-ec5f81a79001",
   "metadata": {},
   "outputs": [
    {
     "name": "stdout",
     "output_type": "stream",
     "text": [
      "['Olivia', 'Noah', 'Amelia']\n"
     ]
    }
   ],
   "source": [
    "# Exercise 5\n",
    "\n",
    "names = [\"Liam\", \"Olivia\", \"Emma\", \"Noah\", \"Elijah\", \"Amelia\"]\n",
    "odd_names = []\n",
    "index = 0\n",
    "while index < len(names):\n",
    "    if index % 2 == 1:\n",
    "        odd_names.append(names[index])\n",
    "    index+=1\n",
    "print(odd_names)"
   ]
  },
  {
   "cell_type": "code",
   "execution_count": null,
   "id": "5b2e8077-d3a6-4b13-b3bd-b160ec61d72e",
   "metadata": {},
   "outputs": [],
   "source": []
  }
 ],
 "metadata": {
  "kernelspec": {
   "display_name": "Python [conda env:base] *",
   "language": "python",
   "name": "conda-base-py"
  },
  "language_info": {
   "codemirror_mode": {
    "name": "ipython",
    "version": 3
   },
   "file_extension": ".py",
   "mimetype": "text/x-python",
   "name": "python",
   "nbconvert_exporter": "python",
   "pygments_lexer": "ipython3",
   "version": "3.13.5"
  }
 },
 "nbformat": 4,
 "nbformat_minor": 5
}
